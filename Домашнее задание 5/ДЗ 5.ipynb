{
  "cells": [
    {
      "cell_type": "markdown",
      "metadata": {
        "id": "65rym4wyexZA"
      },
      "source": [
        "# 📌 Урок: Задачи оптимизации\n",
        "\n",
        "## 📖 Теоретический минимум\n",
        "\n",
        "### 🔹 Что такое задачи оптимизации?\n",
        "Задачи оптимизации — это математические задачи, в которых необходимо найти **лучшее** (оптимальное) решение из множества возможных вариантов.\n",
        "\n",
        "### 🔹 Классификация задач оптимизации\n",
        "1. **По типу переменных:**\n",
        "   - **Непрерывные** (значения переменных могут быть любыми, например, вещественные числа).\n",
        "   - **Дискретные** (переменные могут принимать только целые значения).\n",
        "   - **Комбинаторные** (переменные представляют собой комбинации элементов).\n",
        "\n",
        "2. **По числу экстремумов:**\n",
        "   - **Линейные** (функция и ограничения линейные).\n",
        "   - **Нелинейные** (функция или ограничения нелинейные).\n",
        "   - **Выпуклые** (гарантирован один глобальный минимум).\n",
        "   - **Невыпуклые** (возможны локальные минимумы и максимумы).\n",
        "\n",
        "3. **По числу критериев:**\n",
        "   - **Однокритериальные** (оптимизируется одна функция).\n",
        "   - **Многокритериальные** (оптимизируются сразу несколько критериев).\n",
        "\n",
        "### 🔹 Методы решения задач оптимизации\n",
        "- **Градиентные методы** (используют производные для поиска минимума/максимума).\n",
        "- **Метод линейного программирования** (например, симплекс-метод).\n",
        "- **Методы комбинаторной оптимизации** (жадные алгоритмы, динамическое программирование).\n",
        "- **Эволюционные алгоритмы** (генетические алгоритмы, муравьиные алгоритмы).\n",
        "- **Методы численной оптимизации** (например, метод Ньютона).\n",
        "\n",
        "---\n",
        "\n",
        "## 📖 Материалы\n",
        "\n",
        "https://vk.com/video302513503_456239460\n",
        "\n",
        "https://habr.com/ru/articles/474286/\n",
        "\n",
        "https://vk.com/video121629816_456239397\n",
        "\n",
        "Грокаем алгоритмы. Иллюстрированное пособие для программистов и любопытствующих от Бхаргава А.\n",
        "\n",
        "https://docs.sympy.org/latest/index.html\n",
        "\n",
        "---\n"
      ]
    },
    {
      "cell_type": "markdown",
      "metadata": {
        "id": "vBGTQmKE3Qvu"
      },
      "source": [
        "\n",
        "# 🏆 Задания\n",
        "\n",
        "За использование оптимизационных библиотек баллы попалам.\n",
        "\n",
        "## 1️⃣ Минимизация функции одной переменной\n",
        "Реализуйте метод **градиентного спуска** для минимизации функции:\n",
        "\n",
        "\\[\n",
        "f(x) = x^2 + 4x + 4\n",
        "\\]\n",
        "\n",
        "Найдите минимальное значение функции и точку, в которой оно достигается.\n",
        "\n",
        "---\n"
      ]
    },
    {
      "cell_type": "code",
      "execution_count": 161,
      "metadata": {
        "id": "iIseX_mCQFZK"
      },
      "outputs": [
        {
          "name": "stdout",
          "output_type": "stream",
          "text": [
            "Минимальное значение 0.0 достигается при х равном -2.0\n"
          ]
        },
        {
          "data": {
            "image/png": "[encoded data removed]",
            "text/plain": [
              "<Figure size 640x480 with 1 Axes>"
            ]
          },
          "metadata": {},
          "output_type": "display_data"
        }
      ],
      "source": [
        "import time\n",
        "import numpy as np\n",
        "import matplotlib.pyplot as plt\n",
        "\n",
        "n = 50  # число итераций\n",
        "x0 = 0  # начальное значение\n",
        "lamda = 0.1  # шаг сходимости\n",
        "\n",
        "\n",
        "def f(x):\n",
        "    return x**2 + 4 * x + 4\n",
        "\n",
        "\n",
        "def df(x):\n",
        "    return 2 * x + 4\n",
        "\n",
        "\n",
        "x_plt = np.arange(-50, 50, 0.1)\n",
        "f_plt = [f(x) for x in x_plt]\n",
        "\n",
        "plt.ion()  # включение интерактивного режима отображения графиков\n",
        "fig, ax = plt.subplots()  # создание окна и осей для графика\n",
        "ax.grid(True)  # Отображение сетки на графике\n",
        "\n",
        "ax.plot(x_plt, f_plt)\n",
        "point = ax.scatter(x0, f(x0), c=\"red\")\n",
        "\n",
        "mn = 100\n",
        "for i in range(n):\n",
        "    lamda = 1 / (min(i + 1, mn))  # Шаг сходимости\n",
        "    x0 = x0 - lamda * df(x0)\n",
        "    point.set_offsets([x0, f(x0)])\n",
        "    fig.canvas.draw()\n",
        "    fig.canvas.flush_events()\n",
        "    time.sleep(0.02)\n",
        "\n",
        "plt.ioff()\n",
        "print(f\"Минимальное значение {f(x0)} достигается при х равном {x0}\")\n",
        "ax.scatter(x0, f(x0), c=\"blue\")\n",
        "plt.show()"
      ]
    },
    {
      "cell_type": "markdown",
      "metadata": {
        "id": "Z-Xjo7zMNlw3"
      },
      "source": [
        "\n",
        "## 2️⃣ Оптимизация производства\n",
        "Фабрика производит два вида товаров: **A** и **B**.  \n",
        "Прибыль с одного товара A — **$5$**, с одного товара B — **$3$**.  \n",
        "Ограничения:\n",
        "- На производство A уходит **2 часа**, на B — **1 час**.\n",
        "- Всего доступно **100 часов**.\n",
        "\n",
        "Сколько товаров A и B нужно выпустить, чтобы максимизировать прибыль?  \n",
        "Решите задачу линейного программирования с помощью **симплекс метода**.\n",
        "За решение оптимизационными библиотеками 0,5 балла, за частное решение этой задачи 0,5 балла.\n",
        "\n",
        "---\n",
        "\n"
      ]
    },
    {
      "cell_type": "code",
      "execution_count": 144,
      "metadata": {
        "id": "SN9ylQTQNmBg"
      },
      "outputs": [
        {
          "data": {
            "image/png": "[encoded data removed]",
            "text/plain": [
              "<Figure size 640x480 with 1 Axes>"
            ]
          },
          "metadata": {},
          "output_type": "display_data"
        }
      ],
      "source": [
        "\"\"\"\n",
        "Q = 5 * A + 3 * B -> max\n",
        "T = 2 * A + B = 100\n",
        "\"\"\"\n",
        "\n",
        "import matplotlib.pyplot as plt\n",
        "import numpy as np\n",
        "\n",
        "a = np.linspace(0, 100 / 2, 50)\n",
        "q_a = 5 * a + 3 * (100 - 2 * a)\n",
        "\n",
        "b = np.linspace(0, 100, 100)\n",
        "q_b = 5 * (50 - b / 2) + 3 * b\n",
        "\n",
        "plt.figure()\n",
        "plt.plot(a, q_a, \"r\", linewidth=5, label=\"Q(A)\")\n",
        "plt.plot(b, q_b, \"b\", linewidth=5, label=\"Q(B)\")\n",
        "plt.legend()\n",
        "plt.xlabel(\"Количество произведенного товара, шт\")\n",
        "plt.ylabel(\"Прибыль, млн. руб\")\n",
        "plt.show()"
      ]
    },
    {
      "cell_type": "code",
      "execution_count": 4,
      "metadata": {},
      "outputs": [
        {
          "name": "stdout",
          "output_type": "stream",
          "text": [
            "Максимальная прибыль составит: 300 при количестве единиц товара А: 0 и товара В: 100\n"
          ]
        }
      ],
      "source": [
        "from scipy.optimize import linprog\n",
        "\n",
        "\"\"\"\n",
        "Q = 5 * A + 3 * B -> max\n",
        "T = 2 * A + B = 100\n",
        "\"\"\"\n",
        "T = 100\n",
        "q_A = 5\n",
        "q_B = 3\n",
        "t_A = 2\n",
        "t_B = 1\n",
        "\n",
        "obj = [-q_A, -q_B]\n",
        "lhs_eq = [[t_A, t_B]]\n",
        "rhs_eq = [T]\n",
        "bnd = [(0, float(\"inf\")), (0, float(\"inf\"))]  # Границы x  # Границы y\n",
        "opt = linprog(\n",
        "    c=obj,\n",
        "    A_eq=lhs_eq,\n",
        "    b_eq=rhs_eq,\n",
        "    bounds=bnd,\n",
        "    method=\"highs\",\n",
        ")\n",
        "print(\n",
        "    f\"Максимальная прибыль составит: {abs(int(opt.fun))} при количестве единиц товара А: {int(opt.x[0])} и товара В: {int(opt.x[1])}\"\n",
        ")"
      ]
    },
    {
      "cell_type": "code",
      "execution_count": null,
      "metadata": {},
      "outputs": [
        {
          "name": "stdout",
          "output_type": "stream",
          "text": [
            "Enter the coefficients of objective function separated by space:\n"
          ]
        },
        {
          "name": "stdout",
          "output_type": "stream",
          "text": [
            "Enter number of constraints:\n",
            "The method is not applicable!\n"
          ]
        },
        {
          "ename": "UnboundLocalError",
          "evalue": "cannot access local variable 'constraints' where it is not associated with a value",
          "output_type": "error",
          "traceback": [
            "\u001b[1;31m---------------------------------------------------------------------------\u001b[0m",
            "\u001b[1;31mUnboundLocalError\u001b[0m                         Traceback (most recent call last)",
            "Cell \u001b[1;32mIn[1], line 204\u001b[0m\n\u001b[0;32m    200\u001b[0m     \u001b[38;5;28;01mfor\u001b[39;00m i \u001b[38;5;129;01min\u001b[39;00m \u001b[38;5;28mrange\u001b[39m(\u001b[38;5;28mlen\u001b[39m(answers)):\n\u001b[0;32m    201\u001b[0m         \u001b[38;5;28mprint\u001b[39m(\u001b[38;5;124mf\u001b[39m\u001b[38;5;124m\"\u001b[39m\u001b[38;5;124mx\u001b[39m\u001b[38;5;132;01m{\u001b[39;00mi\u001b[38;5;250m \u001b[39m\u001b[38;5;241m+\u001b[39m\u001b[38;5;250m \u001b[39m\u001b[38;5;241m1\u001b[39m\u001b[38;5;132;01m}\u001b[39;00m\u001b[38;5;124m =\u001b[39m\u001b[38;5;124m\"\u001b[39m, answers[i])\n\u001b[1;32m--> 204\u001b[0m obj, constraints, rhs, accuracy, is_maximization \u001b[38;5;241m=\u001b[39m \u001b[43minput_values\u001b[49m\u001b[43m(\u001b[49m\u001b[43m)\u001b[49m\n\u001b[0;32m    206\u001b[0m \u001b[38;5;66;03m# Example predefined values\u001b[39;00m\n\u001b[0;32m    207\u001b[0m \n\u001b[0;32m    208\u001b[0m \u001b[38;5;66;03m# obj, constraints, rhs, accuracy, is_maximization = [3, 9], [[1, 4], [1, 2]], [8, 4], 6, True\u001b[39;00m\n\u001b[1;32m   (...)\u001b[0m\n\u001b[0;32m    219\u001b[0m \n\u001b[0;32m    220\u001b[0m \u001b[38;5;66;03m# obj, constraints, rhs, accuracy, is_maximization = [4, 3, 5, 0, 0 ], [ [1, 2, 3, 1, 0],[2, 1, 0, 0, 1]], [10, 8], 6, True\u001b[39;00m\n\u001b[0;32m    222\u001b[0m z_value, answers \u001b[38;5;241m=\u001b[39m simplex(obj, constraints, rhs, accuracy, is_maximization)\n",
            "Cell \u001b[1;32mIn[1], line 161\u001b[0m, in \u001b[0;36minput_values\u001b[1;34m()\u001b[0m\n\u001b[0;32m    158\u001b[0m     \u001b[38;5;28mprint\u001b[39m(\u001b[38;5;124m\"\u001b[39m\u001b[38;5;124mThe method is not applicable!\u001b[39m\u001b[38;5;124m\"\u001b[39m)\n\u001b[0;32m    159\u001b[0m     exit()\n\u001b[1;32m--> 161\u001b[0m \u001b[38;5;28;01mreturn\u001b[39;00m obj, \u001b[43mconstraints\u001b[49m, rhs, accuracy, is_maximization\n",
            "\u001b[1;31mUnboundLocalError\u001b[0m: cannot access local variable 'constraints' where it is not associated with a value"
          ]
        },
        {
          "ename": "",
          "evalue": "",
          "output_type": "error",
          "traceback": [
            "\u001b[1;31mПри выполнении кода в текущей ячейке или предыдущей ячейке ядро аварийно завершило работу. \n",
            "\u001b[1;31mПроверьте код в ячейках, чтобы определить возможную причину сбоя. \n",
            "\u001b[1;31mЩелкните <a href='https://aka.ms/vscodeJupyterKernelCrash'>здесь</a>, чтобы получить дополнительные сведения. \n",
            "\u001b[1;31mПодробнее см. в <a href='command:jupyter.viewOutput'>журнале Jupyter</a>."
          ]
        }
      ],
      "source": [
        "# Нашел кодик на гитхабе\n",
        "# Реализован симплекс-метод\n",
        "def is_linear(coefficients):\n",
        "    # Check if all coefficients are numbers (linear).\n",
        "    return all(isinstance(c, (int, float)) for c in coefficients)\n",
        "\n",
        "\n",
        "def round_value(val, accuracy):\n",
        "    return round(val, accuracy)\n",
        "\n",
        "\n",
        "def simplex(obj, constraints, rhs, accuracy, is_maximization):\n",
        "    n = len(obj)\n",
        "    m = len(constraints)\n",
        "\n",
        "    if not is_maximization:\n",
        "        obj = [-x for x in obj]\n",
        "\n",
        "    # Building the simplex tableau\n",
        "    table = [[0 for _ in range(n + 1 + m)] for _ in range(m + 1)]  # Create table\n",
        "\n",
        "    for i in range(n):\n",
        "        table[0][i] = -obj[i]  # Fill in z-row\n",
        "\n",
        "    for i in range(1, m + 1):  # Fill in constraints coefficients\n",
        "        for j in range(n):\n",
        "            if j < len(constraints[i - 1]):\n",
        "                table[i][j] = constraints[i - 1][j]\n",
        "\n",
        "    table[0][-1] = 0  # RHS of z\n",
        "    for i in range(1, m + 1):  # Other RHS\n",
        "        table[i][-1] = rhs[i - 1]\n",
        "\n",
        "    for i in range(1, m + 1):  # Fill in slack variables\n",
        "        for j in range(n, n + m):\n",
        "            if j - n == i - 1:\n",
        "                table[i][j] = 1\n",
        "\n",
        "    # Initialize basis variables\n",
        "    basis = [n + i for i in range(m)]  # [n, n+1, ..., n+m-1]\n",
        "\n",
        "    # print(\"Initial Simplex Tableau:\")\n",
        "    # print(table)\n",
        "\n",
        "    # Initialize answers and z_value\n",
        "    # Removed initial answers assignment as it will be handled after optimization\n",
        "    z_value = 0  # This will store the value of the objective function\n",
        "\n",
        "    while any(\n",
        "        round_value(x, accuracy) < 0 for x in table[0][:-1]\n",
        "    ):  # Exclude RHS in z-row\n",
        "        key_col = -1\n",
        "        min_val = float(\"inf\")\n",
        "\n",
        "        # Find the column to pivot on (most negative coefficient in z-row)\n",
        "        for i in range(n + m):\n",
        "            if round_value(table[0][i], accuracy) < round_value(min_val, accuracy):\n",
        "                min_val = table[0][i]\n",
        "                key_col = i\n",
        "\n",
        "        if key_col == -1:\n",
        "            print(\"No valid pivot column found. The method is not applicable!\")\n",
        "            exit()\n",
        "\n",
        "        key_row = -1\n",
        "        min_ratio = float(\"inf\")\n",
        "\n",
        "        # Find the row to pivot on using the minimum ratio test\n",
        "        for i in range(1, m + 1):\n",
        "            if round_value(table[i][key_col], accuracy) > 0:\n",
        "                ratio = table[i][-1] / table[i][key_col]\n",
        "                if 0 <= round_value(ratio, accuracy) < round_value(min_ratio, accuracy):\n",
        "                    min_ratio = ratio\n",
        "                    key_row = i\n",
        "\n",
        "        if key_row == -1:\n",
        "            print(\"Unbounded solution. The method is not applicable!\")\n",
        "            exit()\n",
        "\n",
        "        # Perform the pivot\n",
        "        pivot = table[key_row][key_col]\n",
        "        for i in range(n + m + 1):\n",
        "            table[key_row][i] = round_value(table[key_row][i] / pivot, accuracy)\n",
        "\n",
        "        for i in range(m + 1):  # Make all zeroes in key-column except key-row\n",
        "            if i != key_row:\n",
        "                divisor = table[i][key_col]\n",
        "                for j in range(n + m + 1):\n",
        "                    table[i][j] = round_value(\n",
        "                        table[i][j] - divisor * table[key_row][j], accuracy\n",
        "                    )\n",
        "\n",
        "        # Update basis\n",
        "        basis[key_row - 1] = key_col  # Update the basis with the new basic variable\n",
        "\n",
        "        # Check for degeneracy\n",
        "        if round_value(table[key_row][-1], accuracy) == 0:\n",
        "            print(f\"Degeneracy detected in row {key_row}. A basic variable is zero.\")\n",
        "\n",
        "        z_value = round_value(table[0][-1], accuracy)  # Update the current value of z\n",
        "\n",
        "        # print(\"Updated Simplex Tableau:\")\n",
        "        # print(table, key_row)\n",
        "\n",
        "    # After the loop, determine the values of the decision variables\n",
        "    answers = [0] * n  # Initialize all decision variables to zero\n",
        "    for i in range(m):\n",
        "        if (\n",
        "            basis[i] < n\n",
        "        ):  # Only assign values to decision variables, not slack variables\n",
        "            answers[basis[i]] = round_value(\n",
        "                table[i + 1][-1], accuracy\n",
        "            )  # Assign the RHS value\n",
        "\n",
        "    return z_value, answers\n",
        "\n",
        "\n",
        "def input_values():\n",
        "    # Input validation\n",
        "    try:\n",
        "        print(\"Enter the coefficients of objective function separated by space:\")\n",
        "        obj = list(map(float, input().split()))  # Ensure all values are floats\n",
        "        if not is_linear(obj):\n",
        "            raise ValueError(\"Non-linear coefficients in objective function.\")\n",
        "        n = len(obj)\n",
        "\n",
        "        print(\"Enter number of constraints:\")\n",
        "        m = int(input())\n",
        "        constraints = []\n",
        "\n",
        "        print(\n",
        "            \"Enter the coefficients of constraint function separated by space (each constraint on each line):\"\n",
        "        )\n",
        "        for i in range(m):\n",
        "            constraint = list(map(float, input().split()))\n",
        "            if (\n",
        "                len(constraint) > n\n",
        "            ):  # Check that each constraint has the correct number of coefficients\n",
        "                raise ValueError(\"Incorrect number of coefficients in constraints.\")\n",
        "            if not is_linear(constraint):\n",
        "                raise ValueError(\"Non-linear coefficients in constraints.\")\n",
        "            constraints.append(constraint)\n",
        "\n",
        "        print(\"Enter the right-hand side numbers separated by space:\")\n",
        "        rhs = list(map(float, input().split()))\n",
        "        if len(rhs) != m:\n",
        "            raise ValueError(\n",
        "                \"Number of RHS values does not match number of constraints.\"\n",
        "            )\n",
        "\n",
        "        print(\"Enter the accuracy (number of decimal places for rounding):\")\n",
        "        accuracy = int(input())\n",
        "\n",
        "        print(\"Are you trying to maximize the function? (yes/no):\")\n",
        "        is_maximization = input().lower() == \"yes\"\n",
        "\n",
        "    except ValueError:\n",
        "        print(\"The method is not applicable!\")\n",
        "        exit()\n",
        "\n",
        "    return obj, constraints, rhs, accuracy, is_maximization\n",
        "\n",
        "\n",
        "def output_values(z_value, answers, is_maximization):\n",
        "    # **Updated Output Function**\n",
        "    # 1. Print the optimization problem\n",
        "    if is_maximization:\n",
        "        optimization_type = \"Maximize\"\n",
        "    else:\n",
        "        optimization_type = \"Minimize\"\n",
        "\n",
        "    # Construct the objective function string\n",
        "    objective_terms = []\n",
        "    for i, coeff in enumerate(obj):\n",
        "        term = f\"{coeff}*x{i + 1}\"\n",
        "        objective_terms.append(term)\n",
        "    objective_str = \" + \".join(objective_terms)\n",
        "\n",
        "    print(f\"{optimization_type} z = {objective_str}\")\n",
        "\n",
        "    # Print the constraints\n",
        "    print(\"subject to the constraints:\")\n",
        "    for i, constraint in enumerate(constraints):\n",
        "        constraint_terms = []\n",
        "        for j, coeff in enumerate(constraint):\n",
        "            term = f\"{coeff}*x{j + 1}\"\n",
        "            constraint_terms.append(term)\n",
        "        constraint_str = \" + \".join(constraint_terms)\n",
        "        print(f\"{constraint_str} <= {rhs[i]}\")\n",
        "\n",
        "    print()  # Add an empty line for better readability\n",
        "\n",
        "    # 2. Print the solution\n",
        "    if is_maximization:\n",
        "        print(\"Maximum z =\", z_value)\n",
        "    else:\n",
        "        print(\"Minimum z =\", -z_value)\n",
        "\n",
        "    # Output the values of decision variables\n",
        "    for i in range(len(answers)):\n",
        "        print(f\"x{i + 1} =\", answers[i])\n",
        "\n",
        "\n",
        "obj, constraints, rhs, accuracy, is_maximization = input_values()\n",
        "\n",
        "# Example predefined values\n",
        "\n",
        "# obj, constraints, rhs, accuracy, is_maximization = [3, 9], [[1, 4], [1, 2]], [8, 4], 6, True\n",
        "\n",
        "# obj, constraints, rhs, accuracy, is_maximization = [9, 10, 16], [[18, 15, 12], [6, 4, 8], [5, 3, 3]], [360, 192, 180], 10, True\n",
        "\n",
        "# obj, constraints, rhs, accuracy, is_maximization = [3, 9], [[1, 4], [1, 2]], [8, 4], 5, False\n",
        "\n",
        "# obj, constraints, rhs, accuracy, is_maximization = [2, 1], [[1, -1], [1]], [10, 40], 5, True\n",
        "\n",
        "# obj, constraints, rhs, accuracy, is_maximization = [-2, 4, 7, 1, 5], [[-1, 1, 2, 1, 2], [-1, 2, 3, 1, 1], [-1, 1, 1, 2, 1]], [7, 6, 4], 6, False\n",
        "\n",
        "# obj, constraints, rhs, accuracy, is_maximization = [2, 3, 0, -1, 0, 0 ], [[2, -1, 0, -2, 1, 0], [3, 2, 1, -3, 0, 0],  [-1, 3, 0, 4, 0, 1]], [16, 18, 24], 6, True\n",
        "\n",
        "# obj, constraints, rhs, accuracy, is_maximization = [4, 3, 5, 0, 0 ], [ [1, 2, 3, 1, 0],[2, 1, 0, 0, 1]], [10, 8], 6, True\n",
        "\n",
        "z_value, answers = simplex(obj, constraints, rhs, accuracy, is_maximization)\n",
        "output_values(z_value, answers, is_maximization)"
      ]
    },
    {
      "cell_type": "markdown",
      "metadata": {
        "id": "aaGawtbzhqKl"
      },
      "source": [
        "## 3️⃣ Комбинаторная оптимизация (Задача рюкзака)\n",
        "Дан рюкзак ёмкостью **50 кг** и **n** предметов, каждый из которых имеет **вес** и **ценность**.  \n",
        "Найти, какие предметы нужно выбрать, чтобы **максимизировать общую ценность**, не превышая ограничения по весу.\n",
        "\n",
        "**Пример входных данных:**\n",
        "```python\n",
        "items = [(10, 60), (20, 100), (30, 120)]  # (вес, ценность)\n",
        "capacity = 50\n",
        "```\n",
        "**Ожидаемый результат:**  \n",
        "Оптимальный набор предметов и максимальная ценность.\n",
        "\n",
        "---\n",
        "\n"
      ]
    },
    {
      "cell_type": "code",
      "execution_count": 1,
      "metadata": {},
      "outputs": [
        {
          "name": "stdout",
          "output_type": "stream",
          "text": [
            "Общий вес рюкзака: 30, Общая ценность рюкзака:160, Какие предметы лежат в рюкзаке:[(10, 60), (20, 100)]\n"
          ]
        }
      ],
      "source": [
        "items = [(10, 60), (20, 100), (30, 120)]  # (вес, ценность)\n",
        "capacity = 50\n",
        "\n",
        "\n",
        "def knapsack_greedy(items, capacity):\n",
        "    items_new = []\n",
        "    for item in items:\n",
        "        item += ((item[1] / item[0]),)  # Добавляем удельный вес\n",
        "        items_new.append(item)\n",
        "    items_new.sort(key=lambda x: x[2], reverse=True)  # Сортируем по удельному весу\n",
        "\n",
        "    total_value = 0\n",
        "    total_weight = 0\n",
        "    selected_items = []\n",
        "    for weight, value, _ in items_new:\n",
        "        if total_weight <= capacity and weight <= capacity - total_weight:\n",
        "            total_value += value\n",
        "            total_weight += weight\n",
        "            selected_items.append((weight, value))\n",
        "    return print(\n",
        "        f\"Общий вес рюкзака: {total_weight}, Общая ценность рюкзака:{total_value}, Какие предметы лежат в рюкзаке:{selected_items}\"\n",
        "    )\n",
        "\n",
        "\n",
        "knapsack_greedy(items, capacity)"
      ]
    },
    {
      "cell_type": "code",
      "execution_count": 2,
      "metadata": {},
      "outputs": [
        {
          "name": "stdout",
          "output_type": "stream",
          "text": [
            "weights [10, 20, 30]\n",
            "values [60, 100, 120]\n",
            "\n",
            "Шаг 1\n",
            "Таблица при заполнении предметом 1\n",
            "[0, 0, 0, 0, 0, 0, 0, 0, 0, 0, 60, 60, 60, 60, 60, 60, 60, 60, 60, 60, 60, 60, 60, 60, 60, 60, 60, 60, 60, 60, 60, 60, 60, 60, 60, 60, 60, 60, 60, 60, 60, 60, 60, 60, 60, 60, 60, 60, 60, 60, 60]\n",
            "Шаг 2\n",
            "Таблица при заполнении предметом 2\n",
            "[0, 0, 0, 0, 0, 0, 0, 0, 0, 0, 60, 60, 60, 60, 60, 60, 60, 60, 60, 60, 100, 100, 100, 100, 100, 100, 100, 100, 100, 100, 160, 160, 160, 160, 160, 160, 160, 160, 160, 160, 160, 160, 160, 160, 160, 160, 160, 160, 160, 160, 160]\n",
            "Шаг 3\n",
            "Таблица при заполнении предметом 3\n",
            "[0, 0, 0, 0, 0, 0, 0, 0, 0, 0, 60, 60, 60, 60, 60, 60, 60, 60, 60, 60, 100, 100, 100, 100, 100, 100, 100, 100, 100, 100, 160, 160, 160, 160, 160, 160, 160, 160, 160, 160, 180, 180, 180, 180, 180, 180, 180, 180, 180, 180, 220]\n",
            "\n",
            "ИТОГО\n",
            "Общий вес рюкзака: 50, Общая ценность рюкзака:220, Какие предметы лежат в рюкзаке:[(20, 100), (30, 120)]\n"
          ]
        }
      ],
      "source": [
        "# Динамическое программирование\n",
        "items = [(10, 60), (20, 100), (30, 120)]  # (вес, ценность)\n",
        "capacity = 50\n",
        "\n",
        "\n",
        "def knapsack(items, capacity):\n",
        "    weights = []\n",
        "    values = []\n",
        "    for item in items:\n",
        "        weights.append(item[0])\n",
        "        values.append(item[1])\n",
        "    print(\"weights\", weights)\n",
        "    print(\"values\", values)\n",
        "    print()\n",
        "    n = len(weights)\n",
        "    # dp = [[0 for _ in range(capacity + 1)] for _ in range(n + 1)]\n",
        "    dp = [[0] * (capacity + 1) for _ in range(n + 1)]\n",
        "    for i in range(1, n + 1):\n",
        "        print(f\"Шаг {i}\")\n",
        "        for w in range(1, capacity + 1):\n",
        "            if weights[i - 1] <= w:\n",
        "                dp[i][w] = max(\n",
        "                    dp[i - 1][w], values[i - 1] + dp[i - 1][w - weights[i - 1]]\n",
        "                )\n",
        "            else:\n",
        "                dp[i][w] = dp[i - 1][w]\n",
        "        print(f\"Таблица при заполнении предметом {i}\", dp[i][:], sep=\"\\n\")\n",
        "    print()\n",
        "    print(\"ИТОГО\")\n",
        "    total_weight = 0\n",
        "    selected_items = []\n",
        "    W = capacity\n",
        "    for i in range(n, 0, -1):\n",
        "        if dp[i][W] != dp[i - 1][W]:\n",
        "            selected_items.append((weights[i - 1], values[i - 1]))\n",
        "            W -= weights[i - 1]\n",
        "            total_weight += weights[i - 1]\n",
        "    return print(\n",
        "        f\"Общий вес рюкзака: {total_weight}, Общая ценность рюкзака:{dp[n][capacity]}, Какие предметы лежат в рюкзаке:{selected_items[::-1]}\"\n",
        "    )\n",
        "\n",
        "\n",
        "knapsack(items, capacity)"
      ]
    },
    {
      "cell_type": "markdown",
      "metadata": {
        "id": "UIWphjDSh8d0"
      },
      "source": [
        "\n",
        "## 4️⃣ Оптимизация пути (задача коммивояжёра)\n",
        "Дан граф с **n** городами и расстояниями между ними.  \n",
        "Необходимо найти кратчайший путь, проходящий через все города **ровно один раз** и возвращающийся в начальную точку.\n",
        "\n",
        "**Пример входных данных:**\n",
        "```python\n",
        "graph = [\n",
        "    [0, 10, 15, 20],\n",
        "    [10, 0, 35, 25],\n",
        "    [15, 35, 0, 30],\n",
        "    [20, 25, 30, 0]\n",
        "]\n",
        "```\n",
        "**Ожидаемый результат:**  \n",
        "Минимальная длина пути и порядок посещения городов.\n",
        "\n",
        "---\n",
        "\n",
        "\n"
      ]
    },
    {
      "cell_type": "code",
      "execution_count": 30,
      "metadata": {},
      "outputs": [
        {
          "name": "stdout",
          "output_type": "stream",
          "text": [
            "Минимальная длина пути: 80. Порядок посещения городов: [0, 1, 3, 2, 0]\n"
          ]
        }
      ],
      "source": [
        "# Полный перебор (Brute Force)\n",
        "graph = [[0, 10, 15, 20], [10, 0, 35, 25], [15, 35, 0, 30], [20, 25, 30, 0]]\n",
        "\n",
        "\n",
        "def generate_permutations(cities):\n",
        "    if len(cities) == 1:\n",
        "        return [cities]\n",
        "    permutations = []\n",
        "    for i in range(len(cities)):\n",
        "        current_city = cities[i]\n",
        "        remaining_cities = cities[:i] + cities[i + 1 :]\n",
        "        for p in generate_permutations(remaining_cities):\n",
        "            permutations.append([current_city] + p)\n",
        "    return permutations\n",
        "\n",
        "\n",
        "def tsp_Brute_Force(distances):\n",
        "    n = len(distances)\n",
        "    cities = list(range(n))\n",
        "    min_distance = float(\"inf\")\n",
        "    best_route = []\n",
        "    for perm in generate_permutations(cities[1:]):\n",
        "        route = [cities[0]] + list(perm) + [cities[0]]\n",
        "        current_distance = 0\n",
        "        for i in range(n):\n",
        "            current_distance += distances[route[i]][route[i + 1]]\n",
        "        if current_distance < min_distance:\n",
        "            min_distance = current_distance\n",
        "            best_route = route\n",
        "    return print(\n",
        "        f\"Минимальная длина пути: {min_distance}. Порядок посещения городов: {best_route}\"\n",
        "    )\n",
        "\n",
        "\n",
        "tsp_Brute_Force(graph)"
      ]
    },
    {
      "cell_type": "code",
      "execution_count": 23,
      "metadata": {
        "id": "LseGW0kpiS1s"
      },
      "outputs": [
        {
          "name": "stdout",
          "output_type": "stream",
          "text": [
            "Минимальная длина пути: 80. Порядок посещения городов: [0, 1, 3, 2]\n"
          ]
        }
      ],
      "source": [
        "# С использованием библиотеки tsp\n",
        "from python_tsp.exact import solve_tsp_dynamic_programming\n",
        "import numpy as np\n",
        "\n",
        "graph = np.array([[0, 10, 15, 20], [10, 0, 35, 25], [15, 35, 0, 30], [20, 25, 30, 0]])\n",
        "path, distance = solve_tsp_dynamic_programming(graph)\n",
        "print(f\"Минимальная длина пути: {distance}. Порядок посещения городов: {path}\")"
      ]
    },
    {
      "cell_type": "code",
      "execution_count": 29,
      "metadata": {},
      "outputs": [
        {
          "name": "stdout",
          "output_type": "stream",
          "text": [
            "Кратчайшее расстояние (DP): 80\n"
          ]
        }
      ],
      "source": [
        "# Динамическое программирование (алгоритм Беллмана-Хелда-Карпа)\n",
        "\"\"\"Этот метод уменьшает количество операций, запоминая промежуточные результаты,\n",
        "но остаётся экспоненциально сложным, O(n² * 2^n)\n",
        "\"\"\"\n",
        "from functools import lru_cache\n",
        "\n",
        "\n",
        "def tsp_dp(distance_matrix):\n",
        "    n = len(distance_matrix)\n",
        "    all_visited = (1 << n) - 1  # Все города посещены\n",
        "\n",
        "    @lru_cache(None)\n",
        "    def visit(city, visited):\n",
        "        if visited == all_visited:\n",
        "            return distance_matrix[city][0]  # Возвращаемся в начальный город\n",
        "\n",
        "        min_cost = float(\"inf\")\n",
        "        for next_city in range(n):\n",
        "            if not (visited & (1 << next_city)):  # Если город еще не посещен\n",
        "                new_cost = distance_matrix[city][next_city] + visit(\n",
        "                    next_city, visited | (1 << next_city)\n",
        "                )\n",
        "                min_cost = min(min_cost, new_cost)\n",
        "\n",
        "        return min_cost\n",
        "\n",
        "    return visit(0, 1 << 0)\n",
        "\n",
        "\n",
        "# Пример использования\n",
        "graph = [[0, 10, 15, 20], [10, 0, 35, 25], [15, 35, 0, 30], [20, 25, 30, 0]]\n",
        "\n",
        "print(\"Кратчайшее расстояние (DP):\", tsp_dp(graph))"
      ]
    },
    {
      "cell_type": "code",
      "execution_count": 26,
      "metadata": {},
      "outputs": [
        {
          "name": "stdout",
          "output_type": "stream",
          "text": [
            "Минимальная длина пути: 80. Порядок посещения городов: [0, 1, 3, 2, 0]\n"
          ]
        }
      ],
      "source": [
        "# Методы ветвей и границ (Branch and Bound)\n",
        "\"\"\"Этот подход использует частичный перебор с отбрасыванием невыгодных вариантов,\n",
        "что позволяет существенно сократить время поиска\n",
        "\"\"\"\n",
        "import heapq\n",
        "\n",
        "\n",
        "def branch_and_bound_tsp(distance_matrix):\n",
        "    n = len(distance_matrix)\n",
        "    min_distance = float(\"inf\")\n",
        "    best_route = None\n",
        "\n",
        "    def tsp(node, visited, cost, path):\n",
        "        nonlocal min_distance, best_route\n",
        "        if len(path) == n:\n",
        "            cost += distance_matrix[node][0]\n",
        "            if cost < min_distance:\n",
        "                min_distance = cost\n",
        "                best_route = path + [0]\n",
        "            return\n",
        "        for next_node in range(n):\n",
        "            if next_node not in visited:\n",
        "                tsp(\n",
        "                    next_node,\n",
        "                    visited | {next_node},\n",
        "                    cost + distance_matrix[node][next_node],\n",
        "                    path + [next_node],\n",
        "                )\n",
        "\n",
        "    tsp(0, {0}, 0, [0])\n",
        "    return print(\n",
        "        f\"Минимальная длина пути: {min_distance}. Порядок посещения городов: {best_route}\"\n",
        "    )\n",
        "\n",
        "\n",
        "graph = [[0, 10, 15, 20], [10, 0, 35, 25], [15, 35, 0, 30], [20, 25, 30, 0]]\n",
        "branch_and_bound_tsp(graph)"
      ]
    },
    {
      "cell_type": "code",
      "execution_count": 25,
      "metadata": {},
      "outputs": [
        {
          "name": "stdout",
          "output_type": "stream",
          "text": [
            "Жадный маршрут: [0, 1, 3, 2, 0]\n",
            "Приближённое расстояние: 80\n"
          ]
        }
      ],
      "source": [
        "# Жадные\n",
        "\"\"\"Простые эвристики, такие как «ближайший сосед» (Nearest Neighbor),\n",
        "позволяют быстро находить приближённые решения, но не гарантируют их оптимальность.\n",
        "\"\"\"\n",
        "\n",
        "\n",
        "def nearest_neighbor_tsp(distance_matrix):\n",
        "    n = len(distance_matrix)\n",
        "    visited = [False] * n\n",
        "    route = [0]  # Начинаем с первого города\n",
        "    visited[0] = True\n",
        "\n",
        "    for _ in range(n - 1):\n",
        "        last_city = route[-1]\n",
        "        nearest_city = min(\n",
        "            [(i, distance_matrix[last_city][i]) for i in range(n) if not visited[i]],\n",
        "            key=lambda x: x[1],\n",
        "        )[0]\n",
        "        route.append(nearest_city)\n",
        "        visited[nearest_city] = True\n",
        "\n",
        "    route.append(0)  # Возвращаемся в начальный город\n",
        "    total_distance = sum(distance_matrix[route[i]][route[i + 1]] for i in range(n))\n",
        "    return route, total_distance\n",
        "\n",
        "\n",
        "graph = [[0, 10, 15, 20], [10, 0, 35, 25], [15, 35, 0, 30], [20, 25, 30, 0]]\n",
        "# Пример использования\n",
        "route, distance = nearest_neighbor_tsp(graph)\n",
        "print(\"Жадный маршрут:\", route)\n",
        "print(\"Приближённое расстояние:\", distance)"
      ]
    },
    {
      "cell_type": "code",
      "execution_count": 52,
      "metadata": {},
      "outputs": [
        {
          "ename": "ModuleNotFoundError",
          "evalue": "No module named 'ACO'",
          "output_type": "error",
          "traceback": [
            "\u001b[1;31m---------------------------------------------------------------------------\u001b[0m",
            "\u001b[1;31mModuleNotFoundError\u001b[0m                       Traceback (most recent call last)",
            "Cell \u001b[1;32mIn[52], line 3\u001b[0m\n\u001b[0;32m      1\u001b[0m \u001b[38;5;66;03m# Муравьиный алгоритм (Эвристический)\u001b[39;00m\n\u001b[0;32m      2\u001b[0m \u001b[38;5;124m\"\u001b[39m\u001b[38;5;124mМуравьиный алгоритм — один из мощных подходов к решению задачи TSP.\u001b[39m\u001b[38;5;124m\"\u001b[39m\n\u001b[1;32m----> 3\u001b[0m \u001b[38;5;28;01mfrom\u001b[39;00m \u001b[38;5;21;01mACO\u001b[39;00m \u001b[38;5;28;01mimport\u001b[39;00m (\n\u001b[0;32m      4\u001b[0m     ACO,\n\u001b[0;32m      5\u001b[0m     Graph,\n\u001b[0;32m      6\u001b[0m )  \u001b[38;5;66;03m# Установите ACO-библиотеку или используйте самописный вариант\u001b[39;00m\n\u001b[0;32m      8\u001b[0m distance_matrix \u001b[38;5;241m=\u001b[39m [[\u001b[38;5;241m0\u001b[39m, \u001b[38;5;241m10\u001b[39m, \u001b[38;5;241m15\u001b[39m, \u001b[38;5;241m20\u001b[39m], [\u001b[38;5;241m10\u001b[39m, \u001b[38;5;241m0\u001b[39m, \u001b[38;5;241m35\u001b[39m, \u001b[38;5;241m25\u001b[39m], [\u001b[38;5;241m15\u001b[39m, \u001b[38;5;241m35\u001b[39m, \u001b[38;5;241m0\u001b[39m, \u001b[38;5;241m30\u001b[39m], [\u001b[38;5;241m20\u001b[39m, \u001b[38;5;241m25\u001b[39m, \u001b[38;5;241m30\u001b[39m, \u001b[38;5;241m0\u001b[39m]]\n\u001b[0;32m     10\u001b[0m aco \u001b[38;5;241m=\u001b[39m ACO(ant_count\u001b[38;5;241m=\u001b[39m\u001b[38;5;241m10\u001b[39m, generations\u001b[38;5;241m=\u001b[39m\u001b[38;5;241m50\u001b[39m, alpha\u001b[38;5;241m=\u001b[39m\u001b[38;5;241m1.0\u001b[39m, beta\u001b[38;5;241m=\u001b[39m\u001b[38;5;241m2.0\u001b[39m, rho\u001b[38;5;241m=\u001b[39m\u001b[38;5;241m0.5\u001b[39m, q\u001b[38;5;241m=\u001b[39m\u001b[38;5;241m100\u001b[39m)\n",
            "\u001b[1;31mModuleNotFoundError\u001b[0m: No module named 'ACO'"
          ]
        }
      ],
      "source": [
        "# Муравьиный алгоритм (Эвристический)\n",
        "\"Муравьиный алгоритм — один из мощных подходов к решению задачи TSP.\"\n",
        "from ACO import (\n",
        "    ACO,\n",
        "    Graph,\n",
        ")  # Установите ACO-библиотеку или используйте самописный вариант\n",
        "\n",
        "distance_matrix = [[0, 10, 15, 20], [10, 0, 35, 25], [15, 35, 0, 30], [20, 25, 30, 0]]\n",
        "\n",
        "aco = ACO(ant_count=10, generations=50, alpha=1.0, beta=2.0, rho=0.5, q=100)\n",
        "graph = Graph(distance_matrix)\n",
        "path, cost = aco.solve(graph)\n",
        "\n",
        "print(\"Муравьиный алгоритм:\", path)\n",
        "print(\"Приближённое расстояние:\", cost)"
      ]
    },
    {
      "cell_type": "markdown",
      "metadata": {
        "id": "h5NaRCeji99S"
      },
      "source": [
        "\n",
        "## 5️⃣ Накопленная добыча из скважины\n",
        "\n",
        "Предположим, что дебит скважины с течением времени уменьшается по определённому закону. Темп падения дебита задан функцией \\( Q(t) \\), где \\( t \\) — время в днях, а \\( Q(t) \\) — дебит в кубических метрах в день на момент времени \\( t \\).\n",
        "\n",
        "Для данной задачи темп падения дебита задается функцией:\n",
        "\n",
        "$$\n",
        "Q(t) = Q_0 \\cdot e^{-\\lambda t}\n",
        "$$\n",
        "\n",
        "где:\n",
        "- \\( Q_0 \\) — начальный дебит (в кубических метрах в день),\n",
        "- \\( \\lambda \\) — коэффициент падения дебита (в 1/день),\n",
        "- \\( t \\) — время (в днях).\n",
        "\n",
        "Необходимо найти накопленную добычу за период времени от \\( t = 0 \\) до \\( t = T \\), то есть посчитать:\n",
        "\n",
        "$$\n",
        "D(T) = \\int_0^T Q(t) \\, dt\n",
        "$$\n",
        "\n",
        "Где \\( D(T) \\) — это накопленная добыча за период времени от 0 до \\( T \\).\n",
        "\n",
        "**Входные данные:**\n",
        "- \\( Q_0 = 100 \\) м³/день,\n",
        "- \\( lambda = 0.05 \\) 1/день,\n",
        "- \\( T = 365 \\) дней.\n",
        "\n",
        "**Ожидаемый результат:**\n",
        "Вычислить накопленную добычу \\( D(T) \\).\n",
        "\n",
        "\n",
        "### Подсказки:\n",
        "Для вычисления интеграла можно использовать интегрирование из sympy.\n",
        "\n",
        "---\n"
      ]
    },
    {
      "cell_type": "code",
      "execution_count": 86,
      "metadata": {},
      "outputs": [
        {
          "name": "stdout",
          "output_type": "stream",
          "text": [
            "Неопределенный интеграл: -2000.0*exp(-0.05*t)\n",
            "Накопленная добыча нефти за 365 дней: 1999.99997627776 м3\n"
          ]
        }
      ],
      "source": [
        "# Использование sympy для символьного интегрирования\n",
        "\"Библиотека sympy позволяет выполнять символьное интегрирование.\"\n",
        "import sympy as sp\n",
        "\n",
        "q0 = 100  # м³/ден\n",
        "lamda = 0.05  # 1/день\n",
        "T = 365  # дней\n",
        "\n",
        "t = sp.symbols(\"t\")\n",
        "q = q0 * sp.exp(-lamda * t)\n",
        "\n",
        "# Вычисляем неопределенный интеграл\n",
        "indefinite_integral = sp.integrate(q, t)\n",
        "print(f\"Неопределенный интеграл: {indefinite_integral}\")\n",
        "\n",
        "# Вычисляем определенный интеграл от 0 до T\n",
        "Q_result = sp.integrate(q, (t, 0, T))\n",
        "print(f\"Накопленная добыча нефти за {T} дней: {Q_result} м3\")"
      ]
    },
    {
      "cell_type": "code",
      "execution_count": 74,
      "metadata": {
        "id": "5efo_fzpjMCs"
      },
      "outputs": [
        {
          "name": "stdout",
          "output_type": "stream",
          "text": [
            "Накопленная добыча нефти за 365 дней: 1999.9999762777597 м3\n",
            "Ошибка: 2.220446022822885e-11\n"
          ]
        }
      ],
      "source": [
        "# Использование scipy.integrate\n",
        "\"Библиотека scipy предоставляет мощные инструменты для численного интегрирования.\"\n",
        "from scipy.integrate import quad\n",
        "import math\n",
        "\n",
        "q0 = 100  # м³/ден\n",
        "lamda = 0.05  # 1/день\n",
        "T = 365  # дней\n",
        "\n",
        "\n",
        "def q(t):\n",
        "    return q0 * math.exp(-lamda * t)\n",
        "\n",
        "\n",
        "Q_result, error = quad(q, 0, T)\n",
        "print(f\"Накопленная добыча нефти за {T} дней: {Q_result} м3\")\n",
        "print(f\"Ошибка: {error}\")"
      ]
    },
    {
      "cell_type": "code",
      "execution_count": 75,
      "metadata": {},
      "outputs": [
        {
          "name": "stdout",
          "output_type": "stream",
          "text": [
            "Накопленная добыча нефти за 365 дней: 2000.0555975719797 м3\n"
          ]
        }
      ],
      "source": [
        "# Использование numpy для численного интегрирования\n",
        "\"\"\"Хотя numpy не предоставляет прямых функций для интегрирования,\n",
        "его можно использовать вместе с другими методами, такими как метод трапеций или метод Симпсона.\n",
        "\"\"\"\n",
        "import numpy as np\n",
        "\n",
        "q0 = 100  # м³/ден\n",
        "lamda = 0.05  # 1/день\n",
        "T = 365  # дней\n",
        "\n",
        "\n",
        "def q(t):\n",
        "    return q0 * np.exp(-lamda * t)\n",
        "\n",
        "\n",
        "t = np.linspace(0, T, 1000)\n",
        "\n",
        "Q_result = np.trapezoid(q(t), t)\n",
        "print(f\"Накопленная добыча нефти за {T} дней: {Q_result} м3\")"
      ]
    }
  ],
  "metadata": {
    "colab": {
      "provenance": []
    },
    "kernelspec": {
      "display_name": "Python 3",
      "name": "python3"
    },
    "language_info": {
      "codemirror_mode": {
        "name": "ipython",
        "version": 3
      },
      "file_extension": ".py",
      "mimetype": "text/x-python",
      "name": "python",
      "nbconvert_exporter": "python",
      "pygments_lexer": "ipython3",
      "version": "3.13.2"
    }
  },
  "nbformat": 4,
  "nbformat_minor": 0
}
