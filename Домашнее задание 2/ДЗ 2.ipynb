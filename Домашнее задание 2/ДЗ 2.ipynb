{
  "cells": [
    {
      "cell_type": "markdown",
      "metadata": {
        "id": "65rym4wyexZA"
      },
      "source": [
        "# Теоретический минимум по теме \"Алгоритмы поиска\"\n",
        "\n",
        "## Зачем используются\n",
        "Алгоритмы поиска используются для нахождения заданного элемента в массиве, списке или другой структуре данных. Выбор алгоритма зависит от структуры данных, объема входных данных и требований к скорости выполнения.\n",
        "\n",
        "\n",
        "---\n",
        "# Материалы\n",
        "https://vk.com/video-62468751_456240449\n",
        "\n",
        "https://vkvideo.ru/video-151213012_456239017\n",
        "\n",
        "https://vk.com/video302513503_456239525\n",
        "\n",
        "Адитья Бхаргава - Грокаем алгоритмы. Иллюстрированное пособие для программистов и любопытствующих (2017, Питер)\n",
        "\n",
        "---\n",
        "\n",
        "# Задачи по теме \"Алгоритмы поиска\""
      ]
    },
    {
      "cell_type": "markdown",
      "metadata": {
        "id": "Z-Xjo7zMNlw3"
      },
      "source": [
        "## 1. Найти первый элемент\n",
        "\n",
        "**Задание:**  \n",
        "У вас есть список чисел. Ваша задача — написать функцию, которая возвращает первый элемент списка.\n",
        "\n",
        "\n",
        "**Формат вывода:**\n",
        "\n",
        "Найденный элемент\n",
        "\n",
        "Какая Big O этого алгоритма?"
      ]
    },
    {
      "cell_type": "code",
      "execution_count": 20,
      "metadata": {
        "id": "SN9ylQTQNmBg"
      },
      "outputs": [
        {
          "name": "stdout",
          "output_type": "stream",
          "text": [
            "[4, 5, 3, 2]\n",
            "Первый элемент списка: 4\n",
            "Сложность O(1)\n"
          ]
        }
      ],
      "source": [
        "def f1(lst):\n",
        "    return lst[0]\n",
        "\n",
        "\n",
        "lst = [int(x) for x in input().split()]\n",
        "print(lst)\n",
        "print(f'Первый элемент списка: {f1(lst)}')\n",
        "print('Сложность O(1)')"
      ]
    },
    {
      "cell_type": "markdown",
      "metadata": {
        "id": "aaGawtbzhqKl"
      },
      "source": [
        "## 2. Линейный поиск  \n",
        "\n",
        "**Задание:**  \n",
        "Напишите простейший алгоритм, который проходит по массиву и сравнивает каждый элемент с искомым значением.  \n",
        "\n",
        "\n",
        "**Формат вывода:**\n",
        "\n",
        "Индекс найденного элемента\n",
        "\n",
        "Какая Big O этого алгоритма?"
      ]
    },
    {
      "cell_type": "code",
      "execution_count": 80,
      "metadata": {
        "colab": {
          "base_uri": "https://localhost:8080/"
        },
        "id": "ByFl_a5OhoCR",
        "outputId": "6c574be9-d23d-4b90-9636-8d334844c405"
      },
      "outputs": [
        {
          "name": "stdout",
          "output_type": "stream",
          "text": [
            "4\n",
            "Сложность O(n)\n"
          ]
        }
      ],
      "source": [
        "def linear_search(lst, x):\n",
        "    for i in range(len(lst)):\n",
        "        if lst[i] == x:\n",
        "            return i\n",
        "    return \"В списке нет такого элемента\"\n",
        "\n",
        "\n",
        "l = [i for i in range(1,11)]\n",
        "x = 5\n",
        "print(linear_search(l, x))\n",
        "print(\"Сложность O(n)\")"
      ]
    },
    {
      "cell_type": "markdown",
      "metadata": {
        "id": "UIWphjDSh8d0"
      },
      "source": [
        "## 3. Бинарный поиск\n",
        "**Задание:**\n",
        "\n",
        "Напишите эффективный алгоритм для упорядоченных массивов. Работает по принципу \"разделяй и властвуй\":\n",
        "\n",
        "Сравнивает искомый элемент с центральным.\n",
        "\n",
        "Если элемент меньше — ищем в левой половине, если больше — в правой.\n",
        "\n",
        "Повторяем процесс, пока не найдем элемент или не останется элементов.\n",
        "\n",
        "\n",
        "**Формат вывода:**\n",
        "\n",
        "\n",
        "Индекс найденного элемента\n",
        "\n",
        "Какая Big O этого алгоритма? Какие требования к массиву данных?"
      ]
    },
    {
      "cell_type": "code",
      "execution_count": 78,
      "metadata": {
        "id": "LseGW0kpiS1s"
      },
      "outputs": [
        {
          "name": "stdout",
          "output_type": "stream",
          "text": [
            "111\n",
            "Сложность O(log n)\n"
          ]
        }
      ],
      "source": [
        "def binary_search(lst, x):\n",
        "    left, right = 0, len(lst) - 1\n",
        "    while left <= right:\n",
        "        mid = (left + right) // 2\n",
        "        if lst[mid] == x:\n",
        "            return mid\n",
        "        elif x < lst[mid]:\n",
        "            right = mid - 1\n",
        "        else:\n",
        "            left = mid + 1\n",
        "    return \"Такого элемента в списке нет\"\n",
        "\n",
        "\n",
        "lst = [i for i in range(666, 999)]\n",
        "x = 777\n",
        "print(binary_search(lst, x))\n",
        "print(\"Сложность O(log n)\")"
      ]
    },
    {
      "cell_type": "markdown",
      "metadata": {
        "id": "h5NaRCeji99S"
      },
      "source": [
        "## 4. Интерполяционный поиск\n",
        "**Задание:**\n",
        "\n",
        "Напишите улучшенная версия бинарного поиска. Вы заранее знаете, что данные равномерно распределены. Вместо деления массива пополам вычисляйте приблизительное положение искомого элемента.\n",
        "\n",
        "**Формат вывода:**\n",
        "\n",
        "Индекс найденного элемента\n",
        "\n",
        "Какая Big O этого алгоритма? Какие требования к массиву данных?"
      ]
    },
    {
      "cell_type": "code",
      "execution_count": 81,
      "metadata": {
        "id": "5efo_fzpjMCs"
      },
      "outputs": [
        {
          "name": "stdout",
          "output_type": "stream",
          "text": [
            "328\n",
            "Сложность O(log log n)\n"
          ]
        }
      ],
      "source": [
        "def interpolation_search(lst, x):\n",
        "    left, right = 0, len(lst) - 1\n",
        "    while left <= right:\n",
        "        pos = left + ((x - lst[left]) * (right - left)) // (lst[right] - lst[left])\n",
        "        if lst[pos] == x:\n",
        "            return pos\n",
        "        elif x < lst[pos]:\n",
        "            right = pos - 1\n",
        "        else:\n",
        "            left = pos + 1\n",
        "    return \"Такого элемента в списке нет\"\n",
        "\n",
        "\n",
        "lst = [i for i in range(5,555)]\n",
        "x = 333\n",
        "print(interpolation_search(lst, x))\n",
        "print(\"Сложность O(log log n)\")"
      ]
    },
    {
      "cell_type": "markdown",
      "metadata": {
        "id": "dacySgMpjM5_"
      },
      "source": [
        "## 5. Поиск в строках. Алгоритм Кнута-Морриса-Пратта (KMP)\n",
        "**Задание:**\n",
        "Алгоритм Кнута-Морриса-Пратта (KMP) используется для поиска подстроки (шаблона) в строке. Он предварительно строит префикс-функцию (π-функцию), которая позволяет избегать повторных сравнений.\n",
        "\n",
        "**Шаги реализации:**\n",
        "\n",
        "Реализовать функцию compute_prefix_function(pattern), которая строит массив префикс-функции.\n",
        "Реализовать функцию kmp_search(text, pattern), которая использует префикс-функцию для поиска подстроки.\n",
        "Формат ввода:\n",
        "\n",
        "text — строка, в которой выполняется поиск.\n",
        "pattern — подстрока, которую необходимо найти.\n",
        "\n",
        "**Формат вывода:**\n",
        "\n",
        "Индексы всех вхождений pattern в text.\n"
      ]
    },
    {
      "cell_type": "code",
      "execution_count": 88,
      "metadata": {
        "id": "bwDKd05JjNC1"
      },
      "outputs": [
        {
          "name": "stdout",
          "output_type": "stream",
          "text": [
            "[0, 0, 1, 2, 3, 0]\n",
            "Образ найден\n",
            "[9, 10, 11, 12, 13, 14]\n",
            "Сложность O(n+m). n - длина text, m - длина pattern\n"
          ]
        }
      ],
      "source": [
        "def compute_prefix_function(pattern):\n",
        "    p = [0] * len(pattern)\n",
        "    j = 0\n",
        "    i = 1\n",
        "    while i < len(pattern):\n",
        "        if pattern[j] == pattern[i]:\n",
        "            p[i] = j + 1\n",
        "            i += 1\n",
        "            j += 1\n",
        "        else:\n",
        "            if j == 0:\n",
        "                p[i] = 0\n",
        "                i += 1\n",
        "            else:\n",
        "                j = p[j - 1]\n",
        "    return p\n",
        "\n",
        "\n",
        "def kmp_search(text, pattern):\n",
        "    i = 0\n",
        "    j = 0\n",
        "    list_index=[]\n",
        "    while i < len(text):\n",
        "        if text[i] == pattern[j]:\n",
        "            list_index.append(i)\n",
        "            i += 1\n",
        "            j += 1\n",
        "            if j == len(pattern):\n",
        "                print(\"Образ найден\")\n",
        "                return list_index\n",
        "        else:\n",
        "            list_index = []\n",
        "            if j > 0:\n",
        "                j = compute_prefix_function(pattern)[j - 1]\n",
        "            else:\n",
        "                i += 1\n",
        "    if i == len(text):\n",
        "        return \"Образ не найден\"\n",
        "\n",
        "\n",
        "text = \"лилилось лилилась\"\n",
        "pattern = \"лилила\"\n",
        "print(compute_prefix_function(pattern))\n",
        "print(kmp_search(text, pattern))\n",
        "\n",
        "print(\"Сложность O(n+m). n - длина text, m - длина pattern\")"
      ]
    }
  ],
  "metadata": {
    "colab": {
      "provenance": []
    },
    "kernelspec": {
      "display_name": "Python 3",
      "name": "python3"
    },
    "language_info": {
      "codemirror_mode": {
        "name": "ipython",
        "version": 3
      },
      "file_extension": ".py",
      "mimetype": "text/x-python",
      "name": "python",
      "nbconvert_exporter": "python",
      "pygments_lexer": "ipython3",
      "version": "3.13.2"
    }
  },
  "nbformat": 4,
  "nbformat_minor": 0
}
