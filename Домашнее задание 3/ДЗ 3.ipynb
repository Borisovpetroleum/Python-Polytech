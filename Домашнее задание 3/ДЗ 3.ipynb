{
  "cells": [
    {
      "cell_type": "markdown",
      "metadata": {
        "id": "65rym4wyexZA"
      },
      "source": [
        "# Теоретический минимум по теме \"Регулярные выражения\"\n",
        "\n",
        "## Что такое регулярные выражения (RegEx)?\n",
        "Регулярные выражения — это мощный инструмент для поиска и обработки текстовых данных, позволяющий описывать шаблоны строк с помощью специальных символов.\n",
        "\n",
        "## Основные символы и конструкции\n",
        "| Символ  | Значение | Пример |\n",
        "|---------|---------|--------|\n",
        "| `.`     | Любой одиночный символ (кроме `\\n`) | `\"c.t\"` → `cat`, `cut`, `c8t` |\n",
        "| `^`     | Начало строки | `\"^Hello\"` → `Hello world`, но не `A Hello world` |\n",
        "| `$`     | Конец строки | `\"end$\"` → `This is the end` |\n",
        "| `\\d`    | Любая цифра `[0-9]` | `\"\\d{3}\"` → `123`, `456` |\n",
        "| `\\w`    | Любая буква/цифра/подчёркивание `[a-zA-Z0-9_]` | `\"a\\w\"` → `a1`, `a_` |\n",
        "| `\\s`    | Пробельный символ (пробел, табуляция, новая строка) | `\"hello\\sworld\"` → `hello world` |\n",
        "| `\\b`    | Граница слова | `\"\\bcat\\b\"` → `cat`, но не `cats` |\n",
        "| `*`     | Повторение от 0 до ∞ раз | `\"bo*\"` → `b`, `bo`, `boo`, `booo` |\n",
        "| `+`     | Повторение от 1 до ∞ раз | `\"bo+\"` → `bo`, `boo`, но не `b` |\n",
        "| `?`     | Повторение 0 или 1 раз | `\"colou?r\"` → `color`, `colour` |\n",
        "| `{n,m}` | От n до m повторений | `\"a{2,4}\"` → `aa`, `aaa`, `aaaa` |\n",
        "| `|`     | Альтернатива (ИЛИ) | `\"cat|dog\"` → `cat`, `dog` |\n",
        "| `()`    | Группировка | `\"(ab)+\"` → `ab`, `abab` |\n",
        "| `[]`    | Символьный класс | `\"[aeiou]\"` → `a`, `e`, `i`, `o`, `u` |\n",
        "\n",
        "## Функции модуля re в Python\n",
        "Чтобы работать с регулярными выражениями в Python, используется модуль `re`:\n",
        "\n",
        "\n",
        "`import re`\n",
        "\n",
        "| Функция | Описание | Пример |\n",
        "|---------|---------|--------|\n",
        "| `re.match(pattern, string)` | Проверяет, начинается ли строка с шаблона | `re.match(r\"\\d+\", \"123abc\")` → `123` |\n",
        "| `re.search(pattern, string)` | Ищет первое совпадение в строке | `re.search(r\"\\d+\", \"abc 123 def\")` → `123` |\n",
        "| `re.findall(pattern, string)` | Находит все совпадения | `re.findall(r\"\\d+\", \"abc 123 def 456\")` → `['123', '456']` |\n",
        "| `re.sub(pattern, repl, string)` | Заменяет совпадения на другой текст | `re.sub(r\"\\d+\", \"X\", \"abc 123 def 456\")` → `\"abc X def X\"` |\n",
        "\n",
        "\n",
        "---\n",
        "# Материалы\n",
        "https://vk.com/video-225894706_456239057\n",
        "\n",
        "https://vk.com/video-174125332_456239102\n",
        "\n",
        "https://docs.python.org/3/library/re.html\n",
        "\n",
        "---\n",
        "\n",
        "# Задачи по теме \"Регулярные выражения\""
      ]
    },
    {
      "cell_type": "code",
      "execution_count": 2,
      "metadata": {},
      "outputs": [],
      "source": [
        "import re"
      ]
    },
    {
      "cell_type": "markdown",
      "metadata": {
        "id": "Z-Xjo7zMNlw3"
      },
      "source": [
        "## 1. Найдите все email-адреса\n",
        "Напишите регулярное выражение, которое найдёт все email-адреса в тексте. Email-адрес должен соответствовать шаблону: буквы, цифры, символы `.` и `_` перед `@`, затем доменное имя.\n",
        "\n",
        "**Пример входных данных:**\n",
        "```\n",
        "text = \"Контакты: support@mail.com, user_123@gmail.com, invalid-email@com\"\n",
        "```\n",
        "\n",
        "**Ожидаемый результат:**\n",
        "```\n",
        "['support@mail.com', 'user_123@gmail.com']\n",
        "```\n",
        "\n",
        "---"
      ]
    },
    {
      "cell_type": "code",
      "execution_count": 551,
      "metadata": {
        "id": "SN9ylQTQNmBg"
      },
      "outputs": [
        {
          "data": {
            "text/plain": [
              "['support@mail.com', 'user_123@gmail.com']"
            ]
          },
          "execution_count": 551,
          "metadata": {},
          "output_type": "execute_result"
        }
      ],
      "source": [
        "text = (\n",
        "    \"Контакты: support@mail.com, invalid-email@com,user_123@gmail.com, invalid-email@com\"\n",
        ")\n",
        "re.findall(r\"[a-zA-Z0-9_.-]+@[a-z]+\\.[a-z]+\", text)\n",
        "# re.findall('[0-9a-z].+@[a-z]+.',text)"
      ]
    },
    {
      "cell_type": "markdown",
      "metadata": {
        "id": "aaGawtbzhqKl"
      },
      "source": [
        "## 2. Выделите номера телефонов\n",
        "Напишите регулярное выражение, которое извлечёт номера телефонов в формате `+7 (999) 123-45-67` или `+79991234567`.\n",
        "\n",
        "**Пример входных данных:**\n",
        "```\n",
        "text = \"Мои номера: +7 (999) 123-45-67, +79161234567, 123456.\"\n",
        "```\n",
        "\n",
        "**Ожидаемый результат:**\n",
        "```\n",
        "['+7 (999) 123-45-67', '+79161234567']\n",
        "```\n",
        "\n",
        "---"
      ]
    },
    {
      "cell_type": "code",
      "execution_count": 405,
      "metadata": {
        "id": "ByFl_a5OhoCR"
      },
      "outputs": [
        {
          "data": {
            "text/plain": [
              "['+7 (999) 123-45-67', '+79161234567']"
            ]
          },
          "execution_count": 405,
          "metadata": {},
          "output_type": "execute_result"
        }
      ],
      "source": [
        "text = \"Мои номера: +7 (999) 123-45-67, 123456., +79161234567, 123456.\"\n",
        "re.findall(r\"\\+7\\s?\\(?\\d{3}\\)?\\s?\\d{3}-?\\d{2}-?\\d{2}\", text)\n",
        "# re.findall(r\"\\+\\d\\s\\(\\d+\\)\\s\\d+\\-\\d+\\-\\d+\", text)"
      ]
    },
    {
      "cell_type": "markdown",
      "metadata": {
        "id": "UIWphjDSh8d0"
      },
      "source": [
        "## 3. Найдите все даты\n",
        "Напишите регулярное выражение для поиска дат в формате `DD.MM.YYYY`.\n",
        "\n",
        "**Пример входных данных:**\n",
        "```\n",
        "text = \"События: 12.05.2023, 01.01.2020, 31-12-2019, 40.13.2022.\"\n",
        "```\n",
        "\n",
        "**Ожидаемый результат:**\n",
        "```\n",
        "['12.05.2023', '01.01.2020']\n",
        "```\n",
        "\n",
        "---"
      ]
    },
    {
      "cell_type": "code",
      "execution_count": 545,
      "metadata": {
        "id": "LseGW0kpiS1s"
      },
      "outputs": [
        {
          "name": "stdout",
          "output_type": "stream",
          "text": [
            "['12.05.2023', '30.02.2023', '19.05.2023', '27.05.2023', '01.01.2020']\n",
            "Валидные даты: ['12.05.2023', '19.05.2023', '27.05.2023', '01.01.2020']\n"
          ]
        }
      ],
      "source": [
        "text = \"События: 12.05.2023, 30.02.2023, 19.05.2023, 27.05.2023, 31.19.2025, 01.01.2020, 31-12-2019, 40.13.2022.\"\n",
        "# re.findall(r\"(0[1-9]|1[0-9]|2[0-9]|3[0-1])\\.(0[1-9]|1[0-2])\\.\\d{4}\", text)\n",
        "matches = re.findall(\n",
        "    r\"\\b(?:0[1-9]|[12][0-9]|3[0-1])\\.(?:0[1-9]|1[0-2])\\.(?:\\d{4})\\b\", text\n",
        ")\n",
        "print(matches)\n",
        "from datetime import datetime\n",
        "\n",
        "\n",
        "def is_valid_date(date_str):\n",
        "    try:\n",
        "        datetime.strptime(date_str, \"%d.%m.%Y\")\n",
        "        return True\n",
        "    except ValueError:\n",
        "        return False\n",
        "\n",
        "\n",
        "# Фильтрация только валидных дат\n",
        "valid_dates = [match for match in matches if is_valid_date(match)]\n",
        "\n",
        "print(\"Валидные даты:\", valid_dates)"
      ]
    },
    {
      "cell_type": "markdown",
      "metadata": {
        "id": "h5NaRCeji99S"
      },
      "source": [
        "## 4. Проверка пароля\n",
        "Напишите регулярное выражение, которое проверяет, что пароль соответствует следующим требованиям:\n",
        "- Длина от 8 до 16 символов\n",
        "- Содержит хотя бы одну цифру\n",
        "- Содержит хотя бы одну заглавную букву\n",
        "- Содержит хотя бы одну строчную букву\n",
        "\n",
        "**Пример входных данных:**\n",
        "```\n",
        "passwords = [\"Password1\", \"weak\", \"STRONGPASS123\", \"P@ssword\"]\n",
        "```\n",
        "\n",
        "**Ожидаемый результат:**\n",
        "```\n",
        "['Password1']\n",
        "```\n",
        "\n",
        "---"
      ]
    },
    {
      "cell_type": "code",
      "execution_count": 740,
      "metadata": {
        "id": "5efo_fzpjMCs"
      },
      "outputs": [
        {
          "name": "stdout",
          "output_type": "stream",
          "text": [
            "['Password1', '1PassWord1']\n"
          ]
        }
      ],
      "source": [
        "passwords = [\n",
        "    \"weak\",\n",
        "    \"STRONGPASS123\",\n",
        "    \"Password1\",\n",
        "    \"weak\",\n",
        "    \"STRONGPASS123\",\n",
        "    \"1PassWord1\",\n",
        "    \"P@ssword\",\n",
        "]\n",
        "pattern = r\"(?=.*\\d)(?=.*[A-Z])(?=.*[a-z]).{8,16}\"\n",
        "valid_passwords = [pwd for pwd in passwords if re.fullmatch(pattern, pwd)]\n",
        "print(valid_passwords)"
      ]
    },
    {
      "cell_type": "markdown",
      "metadata": {
        "id": "dacySgMpjM5_"
      },
      "source": [
        "## 5. Удалите все HTML-теги\n",
        "Напишите регулярное выражение, которое удалит все HTML-теги из строки.\n",
        "\n",
        "**Пример входных данных:**\n",
        "```\n",
        "html = \"<p>Привет, <b>мир</b>!</p>\"\n",
        "```\n",
        "\n",
        "**Ожидаемый результат:**\n",
        "```\n",
        "'Привет, мир!'\n",
        "```"
      ]
    },
    {
      "cell_type": "code",
      "execution_count": 758,
      "metadata": {
        "id": "bwDKd05JjNC1"
      },
      "outputs": [
        {
          "data": {
            "text/plain": [
              "'Привет, мир!'"
            ]
          },
          "execution_count": 758,
          "metadata": {},
          "output_type": "execute_result"
        }
      ],
      "source": [
        "html = \"<p>Привет, <b>мир</b>!</p>\"\n",
        "re.sub(r\"\\<.+?\\>\",'', html)"
      ]
    }
  ],
  "metadata": {
    "colab": {
      "provenance": []
    },
    "kernelspec": {
      "display_name": "Python 3",
      "name": "python3"
    },
    "language_info": {
      "codemirror_mode": {
        "name": "ipython",
        "version": 3
      },
      "file_extension": ".py",
      "mimetype": "text/x-python",
      "name": "python",
      "nbconvert_exporter": "python",
      "pygments_lexer": "ipython3",
      "version": "3.13.2"
    }
  },
  "nbformat": 4,
  "nbformat_minor": 0
}
