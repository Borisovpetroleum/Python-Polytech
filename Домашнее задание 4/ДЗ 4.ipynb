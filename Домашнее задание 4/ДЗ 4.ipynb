{
  "cells": [
    {
      "cell_type": "markdown",
      "metadata": {
        "id": "65rym4wyexZA"
      },
      "source": [
        "# 📌 Урок: Алгоритмы сортировки\n",
        "\n",
        "## 📖 Теоретический минимум\n",
        "\n",
        "### 🔹 Что такое алгоритмы сортировки?\n",
        "Алгоритмы сортировки — это методы упорядочивания элементов массива (или списка) в определённом порядке, например, по возрастанию или убыванию.\n",
        "\n",
        "### 🔹 Основные виды сортировок\n",
        "#### 1. Простые сортировки\n",
        "- **Сортировка пузырьком** (Bubble Sort) — O(n²)  \n",
        "  Последовательно сравнивает пары элементов и меняет их местами, если они стоят не в том порядке.\n",
        "- **Сортировка вставками** (Insertion Sort) — O(n²)  \n",
        "  Каждый новый элемент вставляется в уже отсортированную часть массива.\n",
        "- **Сортировка выбором** (Selection Sort) — O(n²)  \n",
        "  Находит минимум и ставит его на правильное место.\n",
        "\n",
        "#### 2. Эффективные сортировки\n",
        "- **Быстрая сортировка** (Quick Sort) — O(n log n) в среднем  \n",
        "  Разделяет массив на два подмассива относительно опорного элемента и рекурсивно сортирует их.\n",
        "- **Сортировка слиянием** (Merge Sort) — O(n log n)  \n",
        "  Делит массив пополам, сортирует обе части и сливает обратно.\n",
        "- **Сортировка кучей** (Heap Sort) — O(n log n)  \n",
        "  Использует структуру данных \"куча\" для эффективной сортировки.\n",
        "\n",
        "#### 3. Специальные сортировки\n",
        "- **Поразрядная сортировка** (Radix Sort) — O(nk)  \n",
        "  Применяется для чисел, сортирует поразрядно.\n",
        "- **Сортировка подсчётом** (Counting Sort) — O(n + k)  \n",
        "  Эффективна, если диапазон значений ограничен.\n",
        "\n",
        "## 📖 Материалы\n",
        "https://vk.com/video-60205820_456239070\n",
        "\n",
        "https://vk.com/video313356016_456239176\n",
        "\n",
        "https://vk.com/video-145052891_456246016\n",
        "\n",
        "https://education.yandex.ru/journal/osnovnye-vidy-sortirovok-i-primery-ikh-realizatsii\n",
        "\n",
        "---\n"
      ]
    },
    {
      "cell_type": "markdown",
      "metadata": {
        "id": "vBGTQmKE3Qvu"
      },
      "source": [
        "# 🏆 Задания\n",
        "\n",
        "## 1️⃣ Вспомните как стандартой python фуннкцией отсортировать массив\n",
        "\n",
        "**Пример входных данных:**\n",
        "```python\n",
        "arr = [5, 3, 8, 4, 2]\n",
        "```\n",
        "\n",
        "**Ожидаемый результат:**\n",
        "```\n",
        "[2, 3, 4, 5, 8]\n",
        "```\n",
        "\n",
        "---\n",
        "```"
      ]
    },
    {
      "cell_type": "code",
      "execution_count": 1,
      "metadata": {},
      "outputs": [
        {
          "name": "stdout",
          "output_type": "stream",
          "text": [
            "[2, 3, 4, 5, 8]\n"
          ]
        }
      ],
      "source": [
        "arr = [5, 3, 8, 4, 2]\n",
        "print(sorted(arr))"
      ]
    },
    {
      "cell_type": "markdown",
      "metadata": {
        "id": "Z-Xjo7zMNlw3"
      },
      "source": [
        "\n",
        "\n",
        "\n",
        "## 2️⃣ Реализация пузырьковой сортировки\n",
        "Реализуйте **сортировку пузырьком** и отсортируйте массив.\n",
        "\n",
        "**Пример входных данных:**\n",
        "```python\n",
        "arr = [5, 3, 8, 4, 2]\n",
        "```\n",
        "\n",
        "**Ожидаемый результат:**\n",
        "```\n",
        "[2, 3, 4, 5, 8]\n",
        "```\n",
        "\n",
        "---\n",
        "```\n"
      ]
    },
    {
      "cell_type": "code",
      "execution_count": 54,
      "metadata": {
        "id": "SN9ylQTQNmBg"
      },
      "outputs": [
        {
          "name": "stdout",
          "output_type": "stream",
          "text": [
            "[2, 3, 4, 5, 8]\n",
            "-0.0008757114410400391\n"
          ]
        }
      ],
      "source": [
        "def bubble_sort(arr):\n",
        "    n=len(arr)\n",
        "    for i in range(n):\n",
        "        for j in range(n-i-1):\n",
        "            if arr[j]>arr[j+1]:\n",
        "                arr[j],arr[j+1]=arr[j+1],arr[j]\n",
        "    return arr\n",
        "\n",
        "\n",
        "\n",
        "arr = [5, 3, 8, 4, 2]\n",
        "import time\n",
        "start=time.time()\n",
        "print(bubble_sort(arr))\n",
        "end=time.time()\n",
        "print(start-end)"
      ]
    },
    {
      "cell_type": "markdown",
      "metadata": {
        "id": "aaGawtbzhqKl"
      },
      "source": [
        "## 3️⃣ Оптимизация пузырьковой сортировки\n",
        "Оптимизируйте пузырьковую сортировку, чтобы она завершалась раньше, если массив уже отсортирован.\n",
        "\n",
        "**Пример входных данных:**\n",
        "```python\n",
        "arr = [1, 2, 3, 4, 5]\n",
        "```\n",
        "\n",
        "**Ожидаемый результат:**\n",
        "```\n",
        "[1, 2, 3, 4, 5] (должно завершиться за O(n))\n",
        "```\n",
        "\n",
        "---\n",
        "\n"
      ]
    },
    {
      "cell_type": "code",
      "execution_count": 52,
      "metadata": {
        "id": "ByFl_a5OhoCR"
      },
      "outputs": [
        {
          "name": "stdout",
          "output_type": "stream",
          "text": [
            "[1, 2, 3, 4, 5]\n",
            "-0.0005712509155273438\n"
          ]
        }
      ],
      "source": [
        "def bubble_sort_opt(arr):\n",
        "    flag = \"True\"\n",
        "    while flag == \"True\":\n",
        "        flag = \"False\"\n",
        "        for i in range(len(arr) - 1):\n",
        "            if arr[i] > arr[i + 1]:\n",
        "                arr[i], arr[i + 1] = arr[i + 1], arr[i]\n",
        "                flag = \"True\"\n",
        "    return arr\n",
        "\n",
        "\n",
        "arr = [2, 1, 3, 4, 5]\n",
        "import time\n",
        "\n",
        "start = time.time()\n",
        "print(bubble_sort_opt(arr))\n",
        "end = time.time()\n",
        "print(start - end)"
      ]
    },
    {
      "cell_type": "markdown",
      "metadata": {},
      "source": [
        "## Сортировка выбором"
      ]
    },
    {
      "cell_type": "code",
      "execution_count": 66,
      "metadata": {},
      "outputs": [
        {
          "name": "stdout",
          "output_type": "stream",
          "text": [
            "[2, 3, 4, 5, 8]\n",
            "-0.0007774829864501953\n"
          ]
        }
      ],
      "source": [
        "def selection_sort(arr):\n",
        "    n = len(arr)\n",
        "    for i in range(n):\n",
        "        min_index = i\n",
        "        for j in range(i + 1, n):\n",
        "            if arr[j] < arr[min_index]:\n",
        "                min_index = j\n",
        "        arr[i], arr[min_index] = arr[min_index], arr[i]\n",
        "    return arr\n",
        "\n",
        "\n",
        "arr = [5, 3, 8, 4, 2]\n",
        "import time\n",
        "\n",
        "start = time.time()\n",
        "print(selection_sort(arr))\n",
        "end = time.time()\n",
        "print(start - end)"
      ]
    },
    {
      "cell_type": "markdown",
      "metadata": {},
      "source": [
        "## Сортировка вставками"
      ]
    },
    {
      "cell_type": "code",
      "execution_count": 90,
      "metadata": {},
      "outputs": [
        {
          "name": "stdout",
          "output_type": "stream",
          "text": [
            "[2, 3, 4, 5, 8]\n",
            "-0.0006256103515625\n"
          ]
        }
      ],
      "source": [
        "def insertion_sort(arr):\n",
        "    n = len(arr)\n",
        "    for i in range(1, n):\n",
        "        key = arr[i]\n",
        "        j = i - 1\n",
        "        while j >= 0 and arr[j] > key:\n",
        "            arr[j + 1] = arr[j]\n",
        "            j -= 1\n",
        "        arr[j + 1] = key\n",
        "    return arr\n",
        "\n",
        "\n",
        "arr = [5, 3, 8, 4, 2]\n",
        "import time\n",
        "\n",
        "start = time.time()\n",
        "print(insertion_sort(arr))\n",
        "end = time.time()\n",
        "print(start - end)"
      ]
    },
    {
      "cell_type": "markdown",
      "metadata": {
        "id": "UIWphjDSh8d0"
      },
      "source": [
        "## 4️⃣ Сортировка слиянием\n",
        "Реализуйте **сортировку слиянием** (Merge Sort).\n",
        "\n",
        "**Пример входных данных:**\n",
        "```python\n",
        "arr = [9, 1, 5, 3, 7]\n",
        "```\n",
        "\n",
        "**Ожидаемый результат:**\n",
        "```\n",
        "[1, 3, 5, 7, 9]\n",
        "```\n",
        "\n",
        "---\n",
        "\n"
      ]
    },
    {
      "cell_type": "code",
      "execution_count": 105,
      "metadata": {
        "id": "LseGW0kpiS1s"
      },
      "outputs": [
        {
          "name": "stdout",
          "output_type": "stream",
          "text": [
            "[1, 3, 5, 7, 9]\n",
            "-0.0007541179656982422\n"
          ]
        }
      ],
      "source": [
        "def merge_sort(arr):\n",
        "    if len(arr) <= 1:\n",
        "        return arr\n",
        "    else:\n",
        "        n = len(arr)\n",
        "        mid = n // 2\n",
        "        left = arr[:mid]\n",
        "        right = arr[mid:]\n",
        "        merge_sort(left)\n",
        "        merge_sort(right)\n",
        "        i = 0  # индекс в списке left\n",
        "        j = 0  # индекс в списке right\n",
        "        k = 0  # индекс в списке arr\n",
        "        while i < len(left) and j < len(right):\n",
        "            if left[i] < right[j]:\n",
        "                arr[k] = left[i]\n",
        "                i += 1\n",
        "            else:\n",
        "                arr[k] = right[j]\n",
        "                j += 1\n",
        "            k += 1\n",
        "        while i < len(left):\n",
        "            arr[k] = left[i]\n",
        "            i += 1\n",
        "            k += 1\n",
        "        while j < len(right):\n",
        "            arr[k] = right[j]\n",
        "            j += 1\n",
        "            k += 1\n",
        "    return arr\n",
        "   \n",
        "\n",
        "arr = [9, 1, 5, 3, 7]\n",
        "import time\n",
        "\n",
        "start = time.time()\n",
        "print(merge_sort(arr))\n",
        "end = time.time()\n",
        "print(start - end)"
      ]
    },
    {
      "cell_type": "markdown",
      "metadata": {
        "id": "h5NaRCeji99S"
      },
      "source": [
        "## 5️⃣ Быстрая сортировка\n",
        "Реализуйте **быструю сортировку** (Quick Sort).\n",
        "\n",
        "**Пример входных данных:**\n",
        "```python\n",
        "arr = [10, -2, 3, 8, 5]\n",
        "```\n",
        "\n",
        "**Ожидаемый результат:**\n",
        "```\n",
        "[-2, 3, 5, 8, 10]\n",
        "```\n",
        "\n",
        "---\n"
      ]
    },
    {
      "cell_type": "code",
      "execution_count": 10,
      "metadata": {
        "id": "5efo_fzpjMCs"
      },
      "outputs": [
        {
          "name": "stdout",
          "output_type": "stream",
          "text": [
            "[1, 3, 5, 7, 9]\n",
            "-0.0003199577331542969\n"
          ]
        }
      ],
      "source": [
        "def quick_sort(arr):\n",
        "    if len(arr) <= 1:\n",
        "        return arr\n",
        "    else:\n",
        "        pivot = arr[0]\n",
        "        left = [x for x in arr[1:] if x < pivot]\n",
        "        right = [x for x in arr[1:] if x >= pivot]\n",
        "    return quick_sort(left) + [pivot] + quick_sort(right)\n",
        "\n",
        "\n",
        "arr = [9, 1, 5, 3, 7]\n",
        "import time\n",
        "\n",
        "start = time.time()\n",
        "print(quick_sort(arr))\n",
        "end = time.time()\n",
        "print(start - end)"
      ]
    }
  ],
  "metadata": {
    "colab": {
      "provenance": []
    },
    "kernelspec": {
      "display_name": "Python 3",
      "name": "python3"
    },
    "language_info": {
      "codemirror_mode": {
        "name": "ipython",
        "version": 3
      },
      "file_extension": ".py",
      "mimetype": "text/x-python",
      "name": "python",
      "nbconvert_exporter": "python",
      "pygments_lexer": "ipython3",
      "version": "3.13.2"
    }
  },
  "nbformat": 4,
  "nbformat_minor": 0
}
